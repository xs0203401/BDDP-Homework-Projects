{
 "cells": [
  {
   "cell_type": "markdown",
   "metadata": {},
   "source": [
    "\n",
    "## <p style=\"text-align: center;\">MIS 284N - Big Data and Distributed Programming</p>\n",
    "## <p style=\"text-align: center;\">Project 2 - Classification, Clustering using scikit-learn</p>\n",
    "## <p style=\"text-align: center;\">Total points: 100</p>\n",
    "## <p style=\"text-align: center;\">Due: Wednesday, October 3 submitted via Canvas by 11:59 pm</p>\n",
    "\n",
    "Your homework should be written in a **Jupyter notebook**. You may work in groups of two if you wish. Only one student per team needs to submit the assignment on Canvas.  But be sure to include name and UTID for both students.\n",
    "\n",
    "Also, please make sure your code runs and the graphics (and anything else) are displayed in your notebook before submitting. (%matplotlib inline)\n",
    "\n",
    "This project is about giving exposure about what Machine Learning models are, how do they work, what criteria you choose to choose a model, how accuracy matters and how error is calculated and so on. We will be using scikit-learn to examine a Machine Learning model. \n",
    "\n",
    "In this Project, we are trying to analyze the data of absenteeism at work. There is one csv file in the dataset. We will analyse how different features influence the model. On what criteria features are chosen and how model are chosen for a certain task. \n",
    "\n",
    "The dataset description is given in the end of the document. Also, try to comment your code."
   ]
  },
  {
   "cell_type": "markdown",
   "metadata": {},
   "source": [
    "## What to Turn In:\n",
    "\n",
    "This Jupyter notebook with answers to each Task namely - \n",
    "    <p> <b> Task 1 </b> - Reading data and splitting between train and test. </p>\n",
    "    <p> <b> Task 2 </b> - PCA application for analyze different features. Three plots - bmi vs absenteeism, transportation expense vs absenteeism and age vs absenteeism. </p>\n",
    "    <p> <b> Task 3 </b> - Machine Learning  Models training for to predict if a person will be absent given the features. </p>\n",
    "    <p> <b> Task 4 </b> - Clustering task - cluster people in different groups of absent reasons. </p>\n",
    "\n",
    "A reported description in each answer for the task in the notebook iteself which will include explanation for what features were correlated and what model was used and what accuracy it gave.\n"
   ]
  },
  {
   "cell_type": "markdown",
   "metadata": {},
   "source": [
    "# Task 1\n",
    "First, you need to split the data into training and testing(functionality directly present in sklearn) in the ratio 80:20."
   ]
  },
  {
   "cell_type": "markdown",
   "metadata": {},
   "source": [
    "### - We limitm number of features initially and chose 8 out of all features."
   ]
  },
  {
   "cell_type": "code",
   "execution_count": 7,
   "metadata": {},
   "outputs": [
    {
     "data": {
      "text/html": [
       "<div>\n",
       "<style scoped>\n",
       "    .dataframe tbody tr th:only-of-type {\n",
       "        vertical-align: middle;\n",
       "    }\n",
       "\n",
       "    .dataframe tbody tr th {\n",
       "        vertical-align: top;\n",
       "    }\n",
       "\n",
       "    .dataframe thead th {\n",
       "        text-align: right;\n",
       "    }\n",
       "</style>\n",
       "<table border=\"1\" class=\"dataframe\">\n",
       "  <thead>\n",
       "    <tr style=\"text-align: right;\">\n",
       "      <th></th>\n",
       "      <th>Body mass index</th>\n",
       "      <th>Transportation expense</th>\n",
       "      <th>Age</th>\n",
       "      <th>Reason for absence</th>\n",
       "      <th>Distance from Residence to Work</th>\n",
       "      <th>Service time</th>\n",
       "      <th>Weight</th>\n",
       "      <th>Height</th>\n",
       "      <th>Absenteeism time in hours</th>\n",
       "    </tr>\n",
       "  </thead>\n",
       "  <tbody>\n",
       "    <tr>\n",
       "      <th>0</th>\n",
       "      <td>30</td>\n",
       "      <td>289</td>\n",
       "      <td>33</td>\n",
       "      <td>26</td>\n",
       "      <td>36</td>\n",
       "      <td>13</td>\n",
       "      <td>90</td>\n",
       "      <td>172</td>\n",
       "      <td>4</td>\n",
       "    </tr>\n",
       "    <tr>\n",
       "      <th>1</th>\n",
       "      <td>31</td>\n",
       "      <td>118</td>\n",
       "      <td>50</td>\n",
       "      <td>0</td>\n",
       "      <td>13</td>\n",
       "      <td>18</td>\n",
       "      <td>98</td>\n",
       "      <td>178</td>\n",
       "      <td>0</td>\n",
       "    </tr>\n",
       "    <tr>\n",
       "      <th>2</th>\n",
       "      <td>31</td>\n",
       "      <td>179</td>\n",
       "      <td>38</td>\n",
       "      <td>23</td>\n",
       "      <td>51</td>\n",
       "      <td>18</td>\n",
       "      <td>89</td>\n",
       "      <td>170</td>\n",
       "      <td>2</td>\n",
       "    </tr>\n",
       "    <tr>\n",
       "      <th>3</th>\n",
       "      <td>24</td>\n",
       "      <td>279</td>\n",
       "      <td>39</td>\n",
       "      <td>7</td>\n",
       "      <td>5</td>\n",
       "      <td>14</td>\n",
       "      <td>68</td>\n",
       "      <td>168</td>\n",
       "      <td>4</td>\n",
       "    </tr>\n",
       "    <tr>\n",
       "      <th>4</th>\n",
       "      <td>30</td>\n",
       "      <td>289</td>\n",
       "      <td>33</td>\n",
       "      <td>23</td>\n",
       "      <td>36</td>\n",
       "      <td>13</td>\n",
       "      <td>90</td>\n",
       "      <td>172</td>\n",
       "      <td>2</td>\n",
       "    </tr>\n",
       "  </tbody>\n",
       "</table>\n",
       "</div>"
      ],
      "text/plain": [
       "   Body mass index  Transportation expense  Age  Reason for absence  \\\n",
       "0               30                     289   33                  26   \n",
       "1               31                     118   50                   0   \n",
       "2               31                     179   38                  23   \n",
       "3               24                     279   39                   7   \n",
       "4               30                     289   33                  23   \n",
       "\n",
       "   Distance from Residence to Work  Service time  Weight  Height  \\\n",
       "0                               36            13      90     172   \n",
       "1                               13            18      98     178   \n",
       "2                               51            18      89     170   \n",
       "3                                5            14      68     168   \n",
       "4                               36            13      90     172   \n",
       "\n",
       "   Absenteeism time in hours  \n",
       "0                          4  \n",
       "1                          0  \n",
       "2                          2  \n",
       "3                          4  \n",
       "4                          2  "
      ]
     },
     "execution_count": 7,
     "metadata": {},
     "output_type": "execute_result"
    }
   ],
   "source": [
    "import pandas as pd\n",
    "\n",
    "df = pd.read_csv('./Data/Absenteeism_at_work.csv',sep = ';' )\n",
    "df_abs = df[['Body mass index','Transportation expense','Age','Reason for absence',\n",
    "             'Distance from Residence to Work','Service time','Weight','Height','Absenteeism time in hours']]\n",
    "df_abs.head()"
   ]
  },
  {
   "cell_type": "markdown",
   "metadata": {},
   "source": [
    "### - Split the data into training and testing dataset 80:20"
   ]
  },
  {
   "cell_type": "code",
   "execution_count": 8,
   "metadata": {},
   "outputs": [],
   "source": [
    "from sklearn.model_selection import train_test_split\n",
    "\n",
    "X, y = df_abs.iloc[:, :8].values, df_abs.iloc[:, 8].values\n",
    "X_train, X_test, y_train, y_test = train_test_split(X, y, test_size=0.2, random_state=0)"
   ]
  },
  {
   "cell_type": "code",
   "execution_count": null,
   "metadata": {},
   "outputs": [],
   "source": []
  },
  {
   "cell_type": "markdown",
   "metadata": {},
   "source": [
    "# Task 2\n",
    "\n",
    "Plot scatter plots for three features namely bmi, transportation expense and age and absenteeism respectively."
   ]
  },
  {
   "cell_type": "markdown",
   "metadata": {},
   "source": [
    "### - Scatter plot 1: bmi vs absenteeism"
   ]
  },
  {
   "cell_type": "code",
   "execution_count": 9,
   "metadata": {},
   "outputs": [
    {
     "data": {
      "image/png": "[encoded data removed]",
      "text/plain": [
       "<Figure size 432x288 with 1 Axes>"
      ]
     },
     "metadata": {},
     "output_type": "display_data"
    }
   ],
   "source": [
    "import matplotlib\n",
    "import matplotlib.pyplot as plt\n",
    "\n",
    "plt.scatter( X[:,0],  y, color='green',s = 5)\n",
    "plt.show()"
   ]
  },
  {
   "cell_type": "markdown",
   "metadata": {},
   "source": [
    "### - Scatter plot 2: Transportation expense vs absenteeism"
   ]
  },
  {
   "cell_type": "code",
   "execution_count": 10,
   "metadata": {},
   "outputs": [
    {
     "data": {
      "image/png": "[encoded data removed]",
      "text/plain": [
       "<Figure size 432x288 with 1 Axes>"
      ]
     },
     "metadata": {},
     "output_type": "display_data"
    }
   ],
   "source": [
    "plt.scatter( X[:,1],  y, color='red', s = 5)\n",
    "plt.show()"
   ]
  },
  {
   "cell_type": "markdown",
   "metadata": {},
   "source": [
    "### - Scatter plot 3: Age vs absenteeism"
   ]
  },
  {
   "cell_type": "code",
   "execution_count": 11,
   "metadata": {},
   "outputs": [
    {
     "data": {
      "image/png": "[encoded data removed]",
      "text/plain": [
       "<Figure size 432x288 with 1 Axes>"
      ]
     },
     "metadata": {},
     "output_type": "display_data"
    }
   ],
   "source": [
    "plt.scatter( X[:,2],  y, color='black',s = 5)\n",
    "plt.show()"
   ]
  },
  {
   "cell_type": "markdown",
   "metadata": {},
   "source": [
    "# Task 3\n",
    "\n",
    "Perform PCA and pick enough PCs to explain at least (60%) of the variance. If you need more than two PCs to get to 60% then do so. Check how many PCs are needed to get 60%. Now train your model based the PC features you picked (using the training set) which predicts absenteeism in hours given the features. This should be done using scikit-learn library. Evaluate (using the test-set) the models we discussed in class to see which gives you the best performance (accuracy).\n",
    "The different models could be for ex- logistic regression or gradient descent.\n",
    "This task is basically for you to learn about different models, theri accuracy and PCA. There is no right and wrong answer.\n",
    "### - Standardizing the data"
   ]
  },
  {
   "cell_type": "code",
   "execution_count": 12,
   "metadata": {},
   "outputs": [
    {
     "name": "stderr",
     "output_type": "stream",
     "text": [
      "C:\\Users\\henry\\Anaconda3\\lib\\site-packages\\sklearn\\utils\\validation.py:475: DataConversionWarning: Data with input dtype int64 was converted to float64 by StandardScaler.\n",
      "  warnings.warn(msg, DataConversionWarning)\n"
     ]
    }
   ],
   "source": [
    "from sklearn.preprocessing import StandardScaler\n",
    "\n",
    "sc = StandardScaler()\n",
    "sc.fit(X_train)\n",
    "X_train_std = sc.transform(X_train)\n",
    "X_test_std = sc.transform(X_test)"
   ]
  },
  {
   "cell_type": "code",
   "execution_count": 13,
   "metadata": {},
   "outputs": [
    {
     "data": {
      "text/plain": [
       "array([0.35251499, 0.1966637 , 0.14012339, 0.12938822, 0.07859416,\n",
       "       0.07380223, 0.02850542, 0.00040789])"
      ]
     },
     "execution_count": 13,
     "metadata": {},
     "output_type": "execute_result"
    }
   ],
   "source": [
    "from sklearn.decomposition import PCA\n",
    "\n",
    "pca = PCA()\n",
    "X_train_pca = pca.fit_transform(X_train_std)\n",
    "pca.explained_variance_ratio_"
   ]
  },
  {
   "cell_type": "code",
   "execution_count": 14,
   "metadata": {},
   "outputs": [
    {
     "data": {
      "image/png": "[encoded data removed]",
      "text/plain": [
       "<Figure size 432x288 with 1 Axes>"
      ]
     },
     "metadata": {},
     "output_type": "display_data"
    }
   ],
   "source": [
    "import numpy as np\n",
    "plt.bar(range(1, 9), pca.explained_variance_ratio_, alpha=0.5, align='center')\n",
    "plt.step(range(1, 9), np.cumsum(pca.explained_variance_ratio_), where='mid')\n",
    "plt.ylabel('Explained variance ratio')\n",
    "plt.xlabel('Principal components')\n",
    "plt.show()"
   ]
  },
  {
   "cell_type": "markdown",
   "metadata": {},
   "source": [
    "### - The first three components captured around 70% of the variance\n",
    "### - Which are bmi, transportation expense and age"
   ]
  },
  {
   "cell_type": "code",
   "execution_count": 15,
   "metadata": {},
   "outputs": [],
   "source": [
    "X_pca, y_pca = df_abs.iloc[:, :3].values, df_abs.iloc[:, 8].values  #Only put 3 features into training dataset this time.\n",
    "\n",
    "X_pca_train, X_pca_test, y_pca_train, y_pca_test = train_test_split(X_pca, y_pca, test_size=0.2, random_state=0)"
   ]
  },
  {
   "cell_type": "markdown",
   "metadata": {},
   "source": [
    "### - Linear Regression"
   ]
  },
  {
   "cell_type": "code",
   "execution_count": 16,
   "metadata": {},
   "outputs": [
    {
     "name": "stdout",
     "output_type": "stream",
     "text": [
      "4.080396302221635\n",
      "[-0.37250801  0.00855261  0.2992429 ]\n"
     ]
    }
   ],
   "source": [
    "from sklearn import linear_model \n",
    "\n",
    "model = linear_model.LinearRegression()\n",
    "\n",
    "Xsample = X_pca_train\n",
    "ysample = y_pca_train\n",
    "model.fit(Xsample, ysample)\n",
    "print( model.intercept_)\n",
    "print(model.coef_)"
   ]
  },
  {
   "cell_type": "markdown",
   "metadata": {},
   "source": [
    "### - Calculate MSE"
   ]
  },
  {
   "cell_type": "code",
   "execution_count": 17,
   "metadata": {},
   "outputs": [
    {
     "name": "stdout",
     "output_type": "stream",
     "text": [
      "125.00046654640512\n"
     ]
    }
   ],
   "source": [
    "from sklearn.metrics import mean_squared_error\n",
    "\n",
    "yhat = model.predict(X_pca_test)\n",
    "\n",
    "print(mean_squared_error(y_pca_test,yhat))\n",
    "\n",
    "# This is the MSE between the real values of y_pca_test and the predicted values derived from X_pca_test."
   ]
  },
  {
   "cell_type": "markdown",
   "metadata": {},
   "source": [
    "### - Change Model to K-Nearest Neighbors regression / MSE\n",
    "The MSE from K-Nearest regression is larger than taht we got from a linear regression model. Thus the linear regression model has higher accuracy comppared with K-Nearest regression."
   ]
  },
  {
   "cell_type": "code",
   "execution_count": 18,
   "metadata": {},
   "outputs": [
    {
     "name": "stdout",
     "output_type": "stream",
     "text": [
      "148.72972972972974\n"
     ]
    }
   ],
   "source": [
    "from sklearn import neighbors\n",
    "model2 = neighbors.KNeighborsRegressor(n_neighbors=3)\n",
    "# Train the model\n",
    "model2.fit(Xsample, ysample)\n",
    "yhat2 = model2.predict(X_pca_test)\n",
    "print(mean_squared_error(y_pca_test,yhat2))"
   ]
  },
  {
   "cell_type": "markdown",
   "metadata": {},
   "source": [
    "### - Logistic Regression model\n",
    "We define that if 'Absenteeism time in hours' >= 1, then this person is classified as 1, which means likely to be absent. If 'Absenteeism time in hours'= 0, then this person would be classified as 0 which means no absence."
   ]
  },
  {
   "cell_type": "code",
   "execution_count": 19,
   "metadata": {},
   "outputs": [
    {
     "name": "stderr",
     "output_type": "stream",
     "text": [
      "C:\\Users\\henry\\Anaconda3\\lib\\site-packages\\pandas\\core\\indexing.py:362: SettingWithCopyWarning: \n",
      "A value is trying to be set on a copy of a slice from a DataFrame.\n",
      "Try using .loc[row_indexer,col_indexer] = value instead\n",
      "\n",
      "See the caveats in the documentation: http://pandas.pydata.org/pandas-docs/stable/indexing.html#indexing-view-versus-copy\n",
      "  self.obj[key] = _infer_fill_value(value)\n",
      "C:\\Users\\henry\\Anaconda3\\lib\\site-packages\\pandas\\core\\indexing.py:543: SettingWithCopyWarning: \n",
      "A value is trying to be set on a copy of a slice from a DataFrame.\n",
      "Try using .loc[row_indexer,col_indexer] = value instead\n",
      "\n",
      "See the caveats in the documentation: http://pandas.pydata.org/pandas-docs/stable/indexing.html#indexing-view-versus-copy\n",
      "  self.obj[item] = s\n"
     ]
    }
   ],
   "source": [
    "df_abs.loc[df['Absenteeism time in hours'] >= 1, 'logis'] = 1\n",
    "df_abs.loc[df['Absenteeism time in hours'] == 0, 'logis'] = 0"
   ]
  },
  {
   "cell_type": "code",
   "execution_count": 20,
   "metadata": {},
   "outputs": [
    {
     "data": {
      "text/html": [
       "<div>\n",
       "<style scoped>\n",
       "    .dataframe tbody tr th:only-of-type {\n",
       "        vertical-align: middle;\n",
       "    }\n",
       "\n",
       "    .dataframe tbody tr th {\n",
       "        vertical-align: top;\n",
       "    }\n",
       "\n",
       "    .dataframe thead th {\n",
       "        text-align: right;\n",
       "    }\n",
       "</style>\n",
       "<table border=\"1\" class=\"dataframe\">\n",
       "  <thead>\n",
       "    <tr style=\"text-align: right;\">\n",
       "      <th></th>\n",
       "      <th>Body mass index</th>\n",
       "      <th>Transportation expense</th>\n",
       "      <th>Age</th>\n",
       "      <th>Reason for absence</th>\n",
       "      <th>Distance from Residence to Work</th>\n",
       "      <th>Service time</th>\n",
       "      <th>Weight</th>\n",
       "      <th>Height</th>\n",
       "      <th>Absenteeism time in hours</th>\n",
       "      <th>logis</th>\n",
       "    </tr>\n",
       "  </thead>\n",
       "  <tbody>\n",
       "    <tr>\n",
       "      <th>735</th>\n",
       "      <td>30</td>\n",
       "      <td>289</td>\n",
       "      <td>33</td>\n",
       "      <td>14</td>\n",
       "      <td>36</td>\n",
       "      <td>13</td>\n",
       "      <td>90</td>\n",
       "      <td>172</td>\n",
       "      <td>8</td>\n",
       "      <td>1.0</td>\n",
       "    </tr>\n",
       "    <tr>\n",
       "      <th>736</th>\n",
       "      <td>29</td>\n",
       "      <td>235</td>\n",
       "      <td>37</td>\n",
       "      <td>11</td>\n",
       "      <td>11</td>\n",
       "      <td>14</td>\n",
       "      <td>88</td>\n",
       "      <td>172</td>\n",
       "      <td>4</td>\n",
       "      <td>1.0</td>\n",
       "    </tr>\n",
       "    <tr>\n",
       "      <th>737</th>\n",
       "      <td>34</td>\n",
       "      <td>118</td>\n",
       "      <td>40</td>\n",
       "      <td>0</td>\n",
       "      <td>14</td>\n",
       "      <td>13</td>\n",
       "      <td>98</td>\n",
       "      <td>170</td>\n",
       "      <td>0</td>\n",
       "      <td>0.0</td>\n",
       "    </tr>\n",
       "    <tr>\n",
       "      <th>738</th>\n",
       "      <td>35</td>\n",
       "      <td>231</td>\n",
       "      <td>39</td>\n",
       "      <td>0</td>\n",
       "      <td>35</td>\n",
       "      <td>14</td>\n",
       "      <td>100</td>\n",
       "      <td>170</td>\n",
       "      <td>0</td>\n",
       "      <td>0.0</td>\n",
       "    </tr>\n",
       "    <tr>\n",
       "      <th>739</th>\n",
       "      <td>25</td>\n",
       "      <td>179</td>\n",
       "      <td>53</td>\n",
       "      <td>0</td>\n",
       "      <td>45</td>\n",
       "      <td>14</td>\n",
       "      <td>77</td>\n",
       "      <td>175</td>\n",
       "      <td>0</td>\n",
       "      <td>0.0</td>\n",
       "    </tr>\n",
       "  </tbody>\n",
       "</table>\n",
       "</div>"
      ],
      "text/plain": [
       "     Body mass index  Transportation expense  Age  Reason for absence  \\\n",
       "735               30                     289   33                  14   \n",
       "736               29                     235   37                  11   \n",
       "737               34                     118   40                   0   \n",
       "738               35                     231   39                   0   \n",
       "739               25                     179   53                   0   \n",
       "\n",
       "     Distance from Residence to Work  Service time  Weight  Height  \\\n",
       "735                               36            13      90     172   \n",
       "736                               11            14      88     172   \n",
       "737                               14            13      98     170   \n",
       "738                               35            14     100     170   \n",
       "739                               45            14      77     175   \n",
       "\n",
       "     Absenteeism time in hours  logis  \n",
       "735                          8    1.0  \n",
       "736                          4    1.0  \n",
       "737                          0    0.0  \n",
       "738                          0    0.0  \n",
       "739                          0    0.0  "
      ]
     },
     "execution_count": 20,
     "metadata": {},
     "output_type": "execute_result"
    }
   ],
   "source": [
    "df_abs.tail()"
   ]
  },
  {
   "cell_type": "code",
   "execution_count": 21,
   "metadata": {},
   "outputs": [],
   "source": [
    "from sklearn.model_selection import train_test_split\n",
    "\n",
    "X, y = df_abs.iloc[:, :8].values, df_abs.iloc[:, 9].values\n",
    "X_train, X_test, y_train, y_test = train_test_split(X, y, test_size=0.3, random_state=0)"
   ]
  },
  {
   "cell_type": "code",
   "execution_count": 22,
   "metadata": {
    "scrolled": true
   },
   "outputs": [
    {
     "name": "stderr",
     "output_type": "stream",
     "text": [
      "C:\\Users\\henry\\Anaconda3\\lib\\site-packages\\sklearn\\utils\\validation.py:475: DataConversionWarning: Data with input dtype int64 was converted to float64 by StandardScaler.\n",
      "  warnings.warn(msg, DataConversionWarning)\n"
     ]
    }
   ],
   "source": [
    "# Standardizing the features\n",
    "from sklearn.preprocessing import StandardScaler\n",
    "sc = StandardScaler()\n",
    "sc.fit(X_train)\n",
    "X_train_std = sc.transform(X_train)\n",
    "X_test_std = sc.transform(X_test)"
   ]
  },
  {
   "cell_type": "code",
   "execution_count": 23,
   "metadata": {},
   "outputs": [
    {
     "data": {
      "text/plain": [
       "LogisticRegression(C=100.0, class_weight=None, dual=False, fit_intercept=True,\n",
       "          intercept_scaling=1, max_iter=100, multi_class='ovr', n_jobs=1,\n",
       "          penalty='l2', random_state=0, solver='liblinear', tol=0.0001,\n",
       "          verbose=0, warm_start=False)"
      ]
     },
     "execution_count": 23,
     "metadata": {},
     "output_type": "execute_result"
    }
   ],
   "source": [
    "from sklearn.linear_model import LogisticRegression\n",
    "from sklearn.metrics import accuracy_score\n",
    "\n",
    "lr = LogisticRegression(C=100.0, random_state=0) # we will see the parameter C below   change C\n",
    "lr.fit(X_train_std, y_train)"
   ]
  },
  {
   "cell_type": "code",
   "execution_count": 80,
   "metadata": {},
   "outputs": [
    {
     "name": "stdout",
     "output_type": "stream",
     "text": [
      "[[[0.   1.  ]]\n",
      "\n",
      " [[0.   1.  ]]\n",
      "\n",
      " [[0.   1.  ]]\n",
      "\n",
      " [[0.   1.  ]]\n",
      "\n",
      " [[0.   1.  ]]\n",
      "\n",
      " [[0.   1.  ]]\n",
      "\n",
      " [[0.   1.  ]]\n",
      "\n",
      " [[0.   1.  ]]\n",
      "\n",
      " [[0.   1.  ]]\n",
      "\n",
      " [[0.   1.  ]]\n",
      "\n",
      " [[0.   1.  ]]\n",
      "\n",
      " [[0.   1.  ]]\n",
      "\n",
      " [[0.46 0.54]]\n",
      "\n",
      " [[0.   1.  ]]\n",
      "\n",
      " [[0.   1.  ]]\n",
      "\n",
      " [[0.   1.  ]]\n",
      "\n",
      " [[0.   1.  ]]\n",
      "\n",
      " [[0.   1.  ]]\n",
      "\n",
      " [[0.   1.  ]]\n",
      "\n",
      " [[0.   1.  ]]\n",
      "\n",
      " [[0.   1.  ]]\n",
      "\n",
      " [[0.03 0.97]]\n",
      "\n",
      " [[0.   1.  ]]\n",
      "\n",
      " [[0.02 0.98]]\n",
      "\n",
      " [[0.   1.  ]]\n",
      "\n",
      " [[0.1  0.9 ]]\n",
      "\n",
      " [[0.11 0.89]]\n",
      "\n",
      " [[0.47 0.53]]\n",
      "\n",
      " [[0.08 0.92]]\n",
      "\n",
      " [[0.   1.  ]]]\n"
     ]
    }
   ],
   "source": [
    "pred = []\n",
    "\n",
    "for i in range(30):\n",
    "    pred.append(lr.predict_proba(X_test_std[i, :8].reshape(1, -1)))\n",
    "\n",
    "print(np.around(pred,decimals=2)) # print only 2 decimal places"
   ]
  },
  {
   "cell_type": "code",
   "execution_count": 34,
   "metadata": {},
   "outputs": [
    {
     "data": {
      "text/plain": [
       "array([[ 1.23820737,  0.38700822,  1.75342725, ...,  0.35445697,\n",
       "         0.57356185, -1.23985036],\n",
       "       [-0.87317623,  0.35675084,  0.78511668, ...,  0.80065067,\n",
       "        -0.94106002, -0.32183651],\n",
       "       [ 1.00360919, -0.65687132,  0.30096139, ...,  1.24684438,\n",
       "         0.81271267, -0.32183651],\n",
       "       ...,\n",
       "       [-1.34237258,  2.35373778, -0.0218088 , ..., -0.31483359,\n",
       "        -1.10049391,  0.41257456],\n",
       "       [-0.40397987, -1.01995985, -0.34457899, ...,  0.35445697,\n",
       "         1.29101432,  4.45183549],\n",
       "       [-0.40397987, -0.50558443, -0.50596408, ...,  0.13136012,\n",
       "        -0.78162614, -0.87264482]])"
      ]
     },
     "execution_count": 34,
     "metadata": {},
     "output_type": "execute_result"
    }
   ],
   "source": [
    "X_test_std"
   ]
  },
  {
   "cell_type": "code",
   "execution_count": 40,
   "metadata": {},
   "outputs": [
    {
     "data": {
      "text/plain": [
       "array([[1.49125187e-05, 9.99985087e-01],\n",
       "       [1.79520102e-03, 9.98204799e-01],\n",
       "       [1.89699743e-05, 9.99981030e-01],\n",
       "       [4.72799386e-03, 9.95272006e-01],\n",
       "       [1.03279522e-04, 9.99896720e-01],\n",
       "       [2.04936584e-06, 9.99997951e-01],\n",
       "       [3.40456732e-04, 9.99659543e-01],\n",
       "       [1.64311698e-05, 9.99983569e-01],\n",
       "       [1.99514749e-06, 9.99998005e-01],\n",
       "       [8.40458807e-08, 9.99999916e-01],\n",
       "       [1.73204527e-05, 9.99982680e-01],\n",
       "       [9.95938237e-06, 9.99990041e-01],\n",
       "       [4.55546667e-01, 5.44453333e-01],\n",
       "       [7.88431823e-06, 9.99992116e-01],\n",
       "       [2.55449080e-05, 9.99974455e-01],\n",
       "       [1.68940825e-06, 9.99998311e-01],\n",
       "       [3.64487729e-06, 9.99996355e-01],\n",
       "       [9.28555490e-07, 9.99999071e-01],\n",
       "       [2.06398690e-04, 9.99793601e-01],\n",
       "       [1.68940825e-06, 9.99998311e-01],\n",
       "       [1.18372461e-03, 9.98816275e-01],\n",
       "       [2.80722126e-02, 9.71927787e-01],\n",
       "       [1.68940825e-06, 9.99998311e-01],\n",
       "       [1.71393979e-02, 9.82860602e-01],\n",
       "       [3.09906990e-04, 9.99690093e-01],\n",
       "       [1.03077462e-01, 8.96922538e-01],\n",
       "       [1.10048772e-01, 8.89951228e-01],\n",
       "       [4.65461408e-01, 5.34538592e-01],\n",
       "       [8.08792797e-02, 9.19120720e-01],\n",
       "       [1.99514749e-06, 9.99998005e-01],\n",
       "       [1.15961723e-06, 9.99998840e-01],\n",
       "       [7.91614202e-07, 9.99999208e-01],\n",
       "       [8.70170410e-05, 9.99912983e-01],\n",
       "       [1.15573996e-02, 9.88442600e-01],\n",
       "       [7.15015436e-04, 9.99284985e-01],\n",
       "       [1.89699743e-05, 9.99981030e-01],\n",
       "       [1.08772478e-04, 9.99891228e-01],\n",
       "       [9.24822199e-04, 9.99075178e-01],\n",
       "       [2.39071068e-03, 9.97609289e-01],\n",
       "       [1.46496822e-02, 9.85350318e-01],\n",
       "       [1.00863879e-04, 9.99899136e-01],\n",
       "       [4.55546667e-01, 5.44453333e-01],\n",
       "       [3.40456732e-04, 9.99659543e-01],\n",
       "       [1.68940825e-06, 9.99998311e-01],\n",
       "       [2.52068074e-06, 9.99997479e-01],\n",
       "       [2.52068074e-06, 9.99997479e-01],\n",
       "       [1.99514749e-06, 9.99998005e-01],\n",
       "       [1.00863879e-04, 9.99899136e-01],\n",
       "       [5.73359304e-06, 9.99994266e-01],\n",
       "       [1.08772478e-04, 9.99891228e-01],\n",
       "       [5.25388152e-05, 9.99947461e-01],\n",
       "       [2.09001992e-06, 9.99997910e-01],\n",
       "       [9.28555490e-07, 9.99999071e-01],\n",
       "       [5.20391750e-05, 9.99947961e-01],\n",
       "       [2.74301781e-05, 9.99972570e-01],\n",
       "       [1.79520102e-03, 9.98204799e-01],\n",
       "       [5.95754564e-06, 9.99994042e-01],\n",
       "       [7.62731431e-06, 9.99992373e-01],\n",
       "       [2.03868528e-03, 9.97961315e-01],\n",
       "       [1.52187599e-06, 9.99998478e-01],\n",
       "       [2.82935029e-01, 7.17064971e-01],\n",
       "       [1.40511118e-05, 9.99985949e-01],\n",
       "       [9.24822199e-04, 9.99075178e-01],\n",
       "       [1.52187599e-06, 9.99998478e-01],\n",
       "       [1.00863879e-04, 9.99899136e-01],\n",
       "       [3.40456732e-04, 9.99659543e-01],\n",
       "       [2.55449080e-05, 9.99974455e-01],\n",
       "       [4.55546667e-01, 5.44453333e-01],\n",
       "       [1.54084535e-07, 9.99999846e-01],\n",
       "       [1.89699743e-05, 9.99981030e-01],\n",
       "       [1.85853956e-04, 9.99814146e-01],\n",
       "       [1.00863879e-04, 9.99899136e-01],\n",
       "       [6.38419433e-05, 9.99936158e-01],\n",
       "       [6.41595657e-04, 9.99358404e-01],\n",
       "       [4.63459035e-06, 9.99995365e-01],\n",
       "       [5.73992307e-05, 9.99942601e-01],\n",
       "       [1.54084535e-07, 9.99999846e-01],\n",
       "       [8.08792797e-02, 9.19120720e-01],\n",
       "       [1.68940825e-06, 9.99998311e-01],\n",
       "       [2.90017956e-04, 9.99709982e-01],\n",
       "       [4.85835233e-03, 9.95141648e-01],\n",
       "       [4.57675813e-04, 9.99542324e-01],\n",
       "       [2.20061733e-06, 9.99997799e-01],\n",
       "       [6.97892806e-01, 3.02107194e-01],\n",
       "       [1.41794830e-01, 8.58205170e-01],\n",
       "       [3.44577517e-01, 6.55422483e-01],\n",
       "       [3.81467848e-01, 6.18532152e-01],\n",
       "       [2.04936584e-06, 9.99997951e-01],\n",
       "       [1.68940825e-06, 9.99998311e-01],\n",
       "       [1.68940825e-06, 9.99998311e-01],\n",
       "       [5.82415550e-01, 4.17584450e-01],\n",
       "       [2.48691034e-05, 9.99975131e-01],\n",
       "       [6.53128680e-03, 9.93468713e-01],\n",
       "       [5.90543222e-01, 4.09456778e-01],\n",
       "       [5.25388152e-05, 9.99947461e-01],\n",
       "       [4.54317870e-05, 9.99954568e-01],\n",
       "       [9.80499154e-01, 1.95008463e-02],\n",
       "       [2.93891388e-03, 9.97061086e-01],\n",
       "       [5.21133114e-01, 4.78866886e-01],\n",
       "       [1.18372461e-03, 9.98816275e-01],\n",
       "       [2.52068074e-06, 9.99997479e-01],\n",
       "       [9.99903699e-06, 9.99990001e-01],\n",
       "       [3.94006271e-01, 6.05993729e-01],\n",
       "       [2.52068074e-06, 9.99997479e-01],\n",
       "       [9.28555490e-07, 9.99999071e-01],\n",
       "       [2.74301781e-05, 9.99972570e-01],\n",
       "       [7.91614202e-07, 9.99999208e-01],\n",
       "       [7.62731431e-06, 9.99992373e-01],\n",
       "       [3.91570934e-07, 9.99999608e-01],\n",
       "       [1.52187599e-06, 9.99998478e-01],\n",
       "       [2.74301781e-05, 9.99972570e-01],\n",
       "       [6.38419433e-05, 9.99936158e-01],\n",
       "       [3.40456732e-04, 9.99659543e-01],\n",
       "       [2.39071068e-03, 9.97609289e-01],\n",
       "       [2.52068074e-06, 9.99997479e-01],\n",
       "       [1.58459259e-04, 9.99841541e-01],\n",
       "       [2.09001992e-06, 9.99997910e-01],\n",
       "       [3.64487729e-06, 9.99996355e-01],\n",
       "       [1.10407505e-04, 9.99889592e-01],\n",
       "       [3.26138294e-03, 9.96738617e-01],\n",
       "       [7.00575437e-03, 9.92994246e-01],\n",
       "       [3.46274524e-03, 9.96537255e-01],\n",
       "       [3.48782159e-05, 9.99965122e-01],\n",
       "       [2.17165584e-06, 9.99997828e-01],\n",
       "       [9.53252523e-01, 4.67474767e-02],\n",
       "       [2.39408096e-05, 9.99976059e-01],\n",
       "       [9.95124536e-03, 9.90048755e-01],\n",
       "       [4.24407987e-03, 9.95755920e-01],\n",
       "       [7.62731431e-06, 9.99992373e-01],\n",
       "       [2.20061733e-06, 9.99997799e-01],\n",
       "       [4.55546667e-01, 5.44453333e-01],\n",
       "       [2.52068074e-06, 9.99997479e-01],\n",
       "       [2.74301781e-05, 9.99972570e-01],\n",
       "       [9.24822199e-04, 9.99075178e-01],\n",
       "       [4.59542110e-02, 9.54045789e-01],\n",
       "       [4.24407987e-03, 9.95755920e-01],\n",
       "       [1.23612974e-08, 9.99999988e-01],\n",
       "       [1.00863879e-04, 9.99899136e-01],\n",
       "       [3.69757732e-01, 6.30242268e-01],\n",
       "       [2.04936584e-06, 9.99997951e-01],\n",
       "       [1.31474237e-05, 9.99986853e-01],\n",
       "       [1.73204527e-05, 9.99982680e-01],\n",
       "       [8.10542851e-03, 9.91894571e-01],\n",
       "       [4.03164274e-03, 9.95968357e-01],\n",
       "       [1.15632799e-05, 9.99988437e-01],\n",
       "       [1.52187599e-06, 9.99998478e-01],\n",
       "       [2.89353059e-06, 9.99997106e-01],\n",
       "       [2.55449080e-05, 9.99974455e-01],\n",
       "       [2.54732983e-06, 9.99997453e-01],\n",
       "       [8.71006782e-05, 9.99912899e-01],\n",
       "       [5.95754564e-06, 9.99994042e-01],\n",
       "       [9.95938237e-06, 9.99990041e-01],\n",
       "       [1.69853801e-02, 9.83014620e-01],\n",
       "       [6.97892806e-01, 3.02107194e-01],\n",
       "       [5.20391750e-05, 9.99947961e-01],\n",
       "       [2.52068074e-06, 9.99997479e-01],\n",
       "       [2.04936584e-06, 9.99997951e-01],\n",
       "       [1.52187599e-06, 9.99998478e-01],\n",
       "       [1.04896119e-02, 9.89510388e-01],\n",
       "       [7.91614202e-07, 9.99999208e-01],\n",
       "       [9.24822199e-04, 9.99075178e-01],\n",
       "       [2.09001992e-06, 9.99997910e-01],\n",
       "       [7.91614202e-07, 9.99999208e-01],\n",
       "       [7.91614202e-07, 9.99999208e-01],\n",
       "       [2.48691034e-05, 9.99975131e-01],\n",
       "       [6.11898846e-07, 9.99999388e-01],\n",
       "       [1.89699743e-05, 9.99981030e-01],\n",
       "       [1.54084535e-07, 9.99999846e-01],\n",
       "       [5.61669797e-08, 9.99999944e-01],\n",
       "       [5.29157470e-03, 9.94708425e-01],\n",
       "       [1.23612974e-08, 9.99999988e-01],\n",
       "       [2.52068074e-06, 9.99997479e-01],\n",
       "       [3.57677714e-02, 9.64232229e-01],\n",
       "       [3.30455853e-06, 9.99996695e-01],\n",
       "       [6.98233770e-03, 9.93017662e-01],\n",
       "       [4.63459035e-06, 9.99995365e-01],\n",
       "       [3.90548315e-05, 9.99960945e-01],\n",
       "       [9.00861314e-03, 9.90991387e-01],\n",
       "       [3.40456732e-04, 9.99659543e-01],\n",
       "       [8.02131288e-03, 9.91978687e-01],\n",
       "       [9.24876956e-01, 7.51230445e-02],\n",
       "       [1.15743949e-05, 9.99988426e-01],\n",
       "       [8.52996119e-05, 9.99914700e-01],\n",
       "       [2.52068074e-06, 9.99997479e-01],\n",
       "       [1.99514749e-06, 9.99998005e-01],\n",
       "       [4.55546667e-01, 5.44453333e-01],\n",
       "       [9.95938237e-06, 9.99990041e-01],\n",
       "       [2.74301781e-05, 9.99972570e-01],\n",
       "       [7.62731431e-06, 9.99992373e-01],\n",
       "       [7.62731431e-06, 9.99992373e-01],\n",
       "       [1.41273841e-04, 9.99858726e-01],\n",
       "       [1.87530734e-02, 9.81246927e-01],\n",
       "       [8.48348110e-06, 9.99991517e-01],\n",
       "       [6.29016896e-02, 9.37098310e-01],\n",
       "       [8.91071340e-01, 1.08928660e-01],\n",
       "       [5.47332854e-06, 9.99994527e-01],\n",
       "       [1.41273841e-04, 9.99858726e-01],\n",
       "       [1.33539838e-02, 9.86646016e-01],\n",
       "       [7.62731431e-06, 9.99992373e-01],\n",
       "       [9.15654845e-02, 9.08434515e-01],\n",
       "       [1.52187599e-06, 9.99998478e-01],\n",
       "       [4.49510968e-02, 9.55048903e-01],\n",
       "       [1.63433428e-05, 9.99983657e-01],\n",
       "       [5.61669797e-08, 9.99999944e-01],\n",
       "       [1.01020103e-02, 9.89897990e-01],\n",
       "       [1.54084535e-07, 9.99999846e-01],\n",
       "       [1.85853956e-04, 9.99814146e-01],\n",
       "       [2.52068074e-06, 9.99997479e-01],\n",
       "       [1.89699743e-05, 9.99981030e-01],\n",
       "       [1.52187599e-06, 9.99998478e-01],\n",
       "       [5.68057615e-02, 9.43194239e-01],\n",
       "       [1.61653482e-02, 9.83834652e-01],\n",
       "       [2.74301781e-05, 9.99972570e-01],\n",
       "       [7.15015436e-04, 9.99284985e-01],\n",
       "       [2.52068074e-06, 9.99997479e-01],\n",
       "       [1.32783591e-06, 9.99998672e-01],\n",
       "       [1.89699743e-05, 9.99981030e-01],\n",
       "       [1.10407505e-04, 9.99889592e-01],\n",
       "       [3.85458896e-05, 9.99961454e-01],\n",
       "       [7.46552285e-05, 9.99925345e-01],\n",
       "       [1.15961723e-06, 9.99998840e-01],\n",
       "       [2.35799282e-05, 9.99976420e-01]])"
      ]
     },
     "execution_count": 40,
     "metadata": {},
     "output_type": "execute_result"
    }
   ],
   "source": [
    "lr.predict_proba(X_test_std[:,:8])"
   ]
  },
  {
   "cell_type": "code",
   "execution_count": 56,
   "metadata": {},
   "outputs": [
    {
     "data": {
      "text/plain": [
       "array([0.99998509, 0.9982048 , 0.99998103, 0.99527201, 0.99989672,\n",
       "       0.99999795, 0.99965954, 0.99998357, 0.999998  , 0.99999992,\n",
       "       0.99998268, 0.99999004, 0.54445333, 0.99999212, 0.99997446,\n",
       "       0.99999831, 0.99999636, 0.99999907, 0.9997936 , 0.99999831,\n",
       "       0.99881628, 0.97192779, 0.99999831, 0.9828606 , 0.99969009,\n",
       "       0.89692254, 0.88995123, 0.53453859, 0.91912072, 0.999998  ,\n",
       "       0.99999884, 0.99999921, 0.99991298, 0.9884426 , 0.99928498,\n",
       "       0.99998103, 0.99989123, 0.99907518, 0.99760929, 0.98535032,\n",
       "       0.99989914, 0.54445333, 0.99965954, 0.99999831, 0.99999748,\n",
       "       0.99999748, 0.999998  , 0.99989914, 0.99999427, 0.99989123,\n",
       "       0.99994746, 0.99999791, 0.99999907, 0.99994796, 0.99997257,\n",
       "       0.9982048 , 0.99999404, 0.99999237, 0.99796131, 0.99999848,\n",
       "       0.71706497, 0.99998595, 0.99907518, 0.99999848, 0.99989914,\n",
       "       0.99965954, 0.99997446, 0.54445333, 0.99999985, 0.99998103,\n",
       "       0.99981415, 0.99989914, 0.99993616, 0.9993584 , 0.99999537,\n",
       "       0.9999426 , 0.99999985, 0.91912072, 0.99999831, 0.99970998,\n",
       "       0.99514165, 0.99954232, 0.9999978 , 0.30210719, 0.85820517,\n",
       "       0.65542248, 0.61853215, 0.99999795, 0.99999831, 0.99999831,\n",
       "       0.41758445, 0.99997513, 0.99346871, 0.40945678, 0.99994746,\n",
       "       0.99995457, 0.01950085, 0.99706109, 0.47886689, 0.99881628,\n",
       "       0.99999748, 0.99999   , 0.60599373, 0.99999748, 0.99999907,\n",
       "       0.99997257, 0.99999921, 0.99999237, 0.99999961, 0.99999848,\n",
       "       0.99997257, 0.99993616, 0.99965954, 0.99760929, 0.99999748,\n",
       "       0.99984154, 0.99999791, 0.99999636, 0.99988959, 0.99673862,\n",
       "       0.99299425, 0.99653725, 0.99996512, 0.99999783, 0.04674748,\n",
       "       0.99997606, 0.99004875, 0.99575592, 0.99999237, 0.9999978 ,\n",
       "       0.54445333, 0.99999748, 0.99997257, 0.99907518, 0.95404579,\n",
       "       0.99575592, 0.99999999, 0.99989914, 0.63024227, 0.99999795,\n",
       "       0.99998685, 0.99998268, 0.99189457, 0.99596836, 0.99998844,\n",
       "       0.99999848, 0.99999711, 0.99997446, 0.99999745, 0.9999129 ,\n",
       "       0.99999404, 0.99999004, 0.98301462, 0.30210719, 0.99994796,\n",
       "       0.99999748, 0.99999795, 0.99999848, 0.98951039, 0.99999921,\n",
       "       0.99907518, 0.99999791, 0.99999921, 0.99999921, 0.99997513,\n",
       "       0.99999939, 0.99998103, 0.99999985, 0.99999994, 0.99470843,\n",
       "       0.99999999, 0.99999748, 0.96423223, 0.9999967 , 0.99301766,\n",
       "       0.99999537, 0.99996095, 0.99099139, 0.99965954, 0.99197869,\n",
       "       0.07512304, 0.99998843, 0.9999147 , 0.99999748, 0.999998  ,\n",
       "       0.54445333, 0.99999004, 0.99997257, 0.99999237, 0.99999237,\n",
       "       0.99985873, 0.98124693, 0.99999152, 0.93709831, 0.10892866,\n",
       "       0.99999453, 0.99985873, 0.98664602, 0.99999237, 0.90843452,\n",
       "       0.99999848, 0.9550489 , 0.99998366, 0.99999994, 0.98989799,\n",
       "       0.99999985, 0.99981415, 0.99999748, 0.99998103, 0.99999848,\n",
       "       0.94319424, 0.98383465, 0.99997257, 0.99928498, 0.99999748,\n",
       "       0.99999867, 0.99998103, 0.99988959, 0.99996145, 0.99992534,\n",
       "       0.99999884, 0.99997642])"
      ]
     },
     "execution_count": 56,
     "metadata": {},
     "output_type": "execute_result"
    }
   ],
   "source": [
    "lr.predict_proba(X_test_std[:,:8])[:,1]"
   ]
  },
  {
   "cell_type": "code",
   "execution_count": 58,
   "metadata": {},
   "outputs": [
    {
     "data": {
      "text/plain": [
       "array([1, 1, 1, 1, 1, 1, 1, 1, 1, 1, 1, 1, 1, 1, 1, 1, 1, 1, 1, 1, 1, 1,\n",
       "       1, 1, 1, 1, 1, 1, 1, 1, 1, 1, 1, 1, 1, 1, 1, 1, 1, 1, 1, 1, 1, 1,\n",
       "       1, 1, 1, 1, 1, 1, 1, 1, 1, 1, 1, 1, 1, 1, 1, 1, 1, 1, 1, 1, 1, 1,\n",
       "       1, 1, 1, 1, 1, 1, 1, 1, 1, 1, 1, 1, 1, 1, 1, 1, 1, 0, 1, 1, 1, 1,\n",
       "       1, 1, 0, 1, 1, 0, 1, 1, 0, 1, 0, 1, 1, 1, 1, 1, 1, 1, 1, 1, 1, 1,\n",
       "       1, 1, 1, 1, 1, 1, 1, 1, 1, 1, 1, 1, 1, 1, 0, 1, 1, 1, 1, 1, 1, 1,\n",
       "       1, 1, 1, 1, 1, 1, 1, 1, 1, 1, 1, 1, 1, 1, 1, 1, 1, 1, 1, 1, 1, 0,\n",
       "       1, 1, 1, 1, 1, 1, 1, 1, 1, 1, 1, 1, 1, 1, 1, 1, 1, 1, 1, 1, 1, 1,\n",
       "       1, 1, 1, 1, 0, 1, 1, 1, 1, 1, 1, 1, 1, 1, 1, 1, 1, 1, 0, 1, 1, 1,\n",
       "       1, 1, 1, 1, 1, 1, 1, 1, 1, 1, 1, 1, 1, 1, 1, 1, 1, 1, 1, 1, 1, 1,\n",
       "       1, 1])"
      ]
     },
     "execution_count": 58,
     "metadata": {},
     "output_type": "execute_result"
    }
   ],
   "source": [
    "np.array([1 if x>0.5 else 0 for x in lr.predict_proba(X_test_std)[:,1]])"
   ]
  },
  {
   "cell_type": "markdown",
   "metadata": {},
   "source": [
    "The prediction results from the test dataset show that some people are more likely to be absent with result [0, 1]. It also shows for some people their chance "
   ]
  },
  {
   "cell_type": "markdown",
   "metadata": {},
   "source": [
    "## Explanation on what features you finally used, what all ML models you tried and what results you got and what was the inference.\n",
    "\n",
    "#### - We used the three features that constitutes over 70% of variance, namely, bmi, transportation expense and age."
   ]
  },
  {
   "cell_type": "markdown",
   "metadata": {},
   "source": [
    "# Task 4\n",
    "\n",
    "The third task is to do clustering(using k-means). For this we will use the highly correlated features to cluster people into different absent reasons (The twelve reasons numbered between 0-28 and the value is given in the reason for absenteeism column). \n",
    "What you can do is pick a feature and plot the reason for absenteeism with respect to the feature. Then this will give you insight how many clusters are there, then do the clustering given the similar k that you had as in insight.\n",
    "This task is basically for you to learn about what things are, how clustering works, why is it useful. There is no right and wrong answer."
   ]
  },
  {
   "cell_type": "code",
   "execution_count": 28,
   "metadata": {},
   "outputs": [],
   "source": [
    "from sklearn.cluster import KMeans\n",
    "\n",
    "colors = ['#aec7e8','#ff7f0e','#ffbb78','#2ca02c','#98df8a',\n",
    "          '#d62728','#ff9896', '#9467bd', '#c5b0d5', '#8c564b',\n",
    "          '#c49c94','#e377c2',\n",
    "          '#d62728','#ff9896', '#9467bd', '#c5b0d5', '#8c564b',\n",
    "          '#c49c94','#e377c2']\n",
    "         \n",
    "mkrs = ['o','v','^','<','>','1','2','3','4','8','p','+','x','d']"
   ]
  },
  {
   "cell_type": "markdown",
   "metadata": {},
   "source": [
    "Trying out different clustering combinations..."
   ]
  },
  {
   "cell_type": "code",
   "execution_count": 29,
   "metadata": {},
   "outputs": [
    {
     "data": {
      "image/png": "[encoded data removed]",
      "text/plain": [
       "<Figure size 1080x576 with 1 Axes>"
      ]
     },
     "metadata": {},
     "output_type": "display_data"
    }
   ],
   "source": [
    "# ['Body mass index', 'Transportation expense', 'Age',\n",
    "# 'Reason for absence', 'Distance from Residence to Work', 'Service time',\n",
    "# 'Weight', 'Height', 'Absenteeism time in hours']\n",
    "x,y=3,8 \n",
    "# 3,8 = 'reason for absence' and 'Absenteeism time in hours'\n",
    "c_s=12\n",
    "\n",
    "CX = df_abs.iloc[:,[x,y]].values\n",
    "\n",
    "plt.figure(figsize=(15,8))\n",
    "plt.xlabel(df_abs.columns[x])\n",
    "plt.ylabel(df_abs.columns[y])\n",
    "\n",
    "km = KMeans(n_clusters=c_s, # how many clusters\n",
    "            init='k-means++', # try 'k-means++' instead of 'random'\n",
    "            n_init=10,    # 10 runs of the k-means algorithm, each run starts with a different\n",
    "                          # set of 3 centroids; choose the one that has the lowest SSE\n",
    "            max_iter=300, # each run is capped at 300 iterations OR\n",
    "            tol=1e-04,    # tolerance of 0.0001 is reached \n",
    "            random_state=0)\n",
    "y_km = km.fit_predict(CX)\n",
    "    \n",
    "for _ in range(c_s):\n",
    "    plt.scatter(CX[y_km == _, 0],\n",
    "                CX[y_km == _, 1],\n",
    "                s=50,\n",
    "                c=colors[_], \n",
    "                marker=mkrs[_],\n",
    "                label='cluster {}'.format(_))\n",
    "    plt.scatter(km.cluster_centers_[_, 0],\n",
    "                km.cluster_centers_[_, 1],\n",
    "                s=150,\n",
    "                marker='*',\n",
    "                c=colors[_],\n",
    "                label='centroid {}'.format(_))\n",
    "\n",
    "plt.legend(loc='center left', bbox_to_anchor=(1, 0.5))\n",
    "plt.grid()\n",
    "plt.tight_layout()\n",
    "plt.show()"
   ]
  },
  {
   "cell_type": "code",
   "execution_count": 30,
   "metadata": {},
   "outputs": [
    {
     "name": "stdout",
     "output_type": "stream",
     "text": [
      "cluster 1 reasons:  [ 0 23 19 27 13  1  5 26 28  7 11 25 18 14  9  8 10]\n",
      "cluster 2 reasons:  [26  7 23 18 24 11 14  0 22 28  6 19 13 12  3 15  4 10]\n",
      "cluster 3 reasons:  [23 11 21 18 13 12 26 28  6 27 10  0  5 25]\n",
      "cluster 4 reasons:  [14 19  1 13 10 18  9  4 26 23 28  0 25  6]\n",
      "cluster 5 reasons:  [22 13 25 23  0 11  1 19  8 10 26 28 14  7]\n",
      "cluster 6 reasons:  [22 23 18 28 19 26 14  7  0 13 25 21  1 10 11]\n",
      "cluster 7 reasons:  [ 0 23 18 28 13 27 25 11 19 12  7 10  6  1 14 16 22]\n",
      "cluster 8 reasons:  [11 23 21 22 18 19 17 13  8  7  6  1 25 12 27 16 10]\n",
      "cluster 9 reasons:  [19 28 23 10  6 18  1 13 12 25  0 11]\n",
      "cluster 10 reasons:  [23  1 11 28 22  0 19 26 13 10 15]\n",
      "cluster 11 reasons:  [11 13  9 18 12 19  6]\n",
      "cluster 12 reasons:  [10 18 23  0 26  1 13 11 25  2]\n"
     ]
    }
   ],
   "source": [
    "c_s=12 # num of clusters\n",
    "\n",
    "# examine all the features other than the 'reason' feature\n",
    "CX = df_abs.iloc[:,[0,1,2,4,5,6,7,8]].values\n",
    "\n",
    "\n",
    "km = KMeans(n_clusters=c_s, # how many clusters\n",
    "            init='k-means++', # try 'k-means++' instead of 'random'\n",
    "            n_init=10,    # 10 runs of the k-means algorithm, each run starts with a different\n",
    "                          # set of 3 centroids; choose the one that has the lowest SSE\n",
    "            max_iter=300, # each run is capped at 300 iterations OR\n",
    "            tol=1e-04,    # tolerance of 0.0001 is reached \n",
    "            random_state=0)\n",
    "y_km = km.fit_predict(CX)\n",
    "\n",
    "for _ in range(c_s):\n",
    "    df_tmp=df_abs[y_km==_]['Reason for absence'].unique()\n",
    "    print('cluster',_+1,'reasons: ',df_tmp)\n"
   ]
  },
  {
   "cell_type": "code",
   "execution_count": 31,
   "metadata": {},
   "outputs": [
    {
     "data": {
      "image/png": "[encoded data removed]",
      "text/plain": [
       "<Figure size 432x288 with 1 Axes>"
      ]
     },
     "metadata": {},
     "output_type": "display_data"
    }
   ],
   "source": [
    "distortions = []\n",
    "for i in range(1, 29):\n",
    "    km = KMeans(n_clusters=i, \n",
    "                init='k-means++', \n",
    "                n_init=10, \n",
    "                max_iter=300, \n",
    "                random_state=0)\n",
    "    km.fit(CX) # includes all the features other than reason for absense\n",
    "    distortions.append(km.inertia_)\n",
    "plt.plot(range(1, 29), distortions, marker='o')\n",
    "plt.xlabel('Number of clusters')\n",
    "plt.ylabel('Distortion')\n",
    "plt.tight_layout()\n",
    "plt.show()"
   ]
  },
  {
   "cell_type": "markdown",
   "metadata": {},
   "source": [
    "## Explanation on how you did the clustering and how k-means helped. What results you got and their inference. "
   ]
  },
  {
   "cell_type": "markdown",
   "metadata": {},
   "source": [
    "We tested clustering over the different features (without reasons for absence) of each individual record. From the distortion chart, we found when number of clusters is 5, we reach the \"elbow\" point. We think this explains as there are 5 main groups of individual records in the dataset. However no matter how many clustering groups we choose, we always see overlapping reasons in the result clusters. We didn't see clear connection between reasons of absence and different features of each individuals (which construct different clusters) within each cluster group. We think this can be explained as we should not predict people's reason for absence based on individual profile records."
   ]
  },
  {
   "cell_type": "code",
   "execution_count": 32,
   "metadata": {},
   "outputs": [
    {
     "name": "stdout",
     "output_type": "stream",
     "text": [
      "cluster 1 reasons:  [11, 13, 23, 25, 27, 28]\n",
      "cluster 2 reasons:  [0, 19, 23, 26, 28]\n",
      "cluster 3 reasons:  [0, 13, 19, 23, 25, 26, 28]\n",
      "cluster 4 reasons:  [23, 27, 28]\n",
      "cluster 5 reasons:  [22, 23]\n"
     ]
    }
   ],
   "source": [
    "c_s=5 # num of clusters\n",
    "level=len(df_abs)//(c_s*15)\n",
    "\n",
    "# examine all the features other than the 'reason' feature\n",
    "CX = df_abs.iloc[:,[0,1,2,4,5,6,7,8]].values\n",
    "\n",
    "\n",
    "km = KMeans(n_clusters=c_s, # how many clusters\n",
    "            init='k-means++', # try 'k-means++' instead of 'random'\n",
    "            n_init=10,    # 10 runs of the k-means algorithm, each run starts with a different\n",
    "                          # set of 3 centroids; choose the one that has the lowest SSE\n",
    "            max_iter=300, # each run is capped at 300 iterations OR\n",
    "            tol=1e-04,    # tolerance of 0.0001 is reached \n",
    "            random_state=0)\n",
    "y_km = km.fit_predict(CX)\n",
    "\n",
    "for _ in range(c_s):\n",
    "#     df_tmp=df_abs[y_km==_]['Reason for absence'].unique()\n",
    "    df_tmp=df_abs[y_km==_]\n",
    "    df_tmp=df_tmp.groupby('Reason for absence').count()\n",
    "    main_reasons=list(df_tmp[df_tmp.Age>level].index) # main reasons that have more than 'level' of records\n",
    "    print('cluster',_+1,'reasons: ',main_reasons)\n"
   ]
  }
 ],
 "metadata": {
  "kernelspec": {
   "display_name": "Python 3",
   "language": "python",
   "name": "python3"
  },
  "language_info": {
   "codemirror_mode": {
    "name": "ipython",
    "version": 3
   },
   "file_extension": ".py",
   "mimetype": "text/x-python",
   "name": "python",
   "nbconvert_exporter": "python",
   "pygments_lexer": "ipython3",
   "version": "3.6.5"
  }
 },
 "nbformat": 4,
 "nbformat_minor": 2
}
